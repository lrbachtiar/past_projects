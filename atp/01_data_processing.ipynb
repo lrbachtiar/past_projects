{
 "cells": [
  {
   "cell_type": "markdown",
   "metadata": {},
   "source": [
    "## Libraries"
   ]
  },
  {
   "cell_type": "code",
   "execution_count": null,
   "metadata": {},
   "outputs": [],
   "source": [
    "from bs4 import BeautifulSoup\n",
    "import urllib\n",
    "import re"
   ]
  },
  {
   "cell_type": "markdown",
   "metadata": {},
   "source": [
    "## Run"
   ]
  },
  {
   "cell_type": "code",
   "execution_count": null,
   "metadata": {},
   "outputs": [],
   "source": [
    "# Get github repo and file list\n",
    "response = urllib.request.urlopen('https://github.com/lrbachtiar/tennis_atp')\n",
    "raw_html = response.read()\n",
    "soup_html = BeautifulSoup(raw_html, 'html.parser')"
   ]
  },
  {
   "cell_type": "code",
   "execution_count": null,
   "metadata": {},
   "outputs": [],
   "source": [
    "# Get file name and download csv\n",
    "csv_url = []\n",
    "p1 = \"/lrbachtiar/tennis_atp/blob/master/\"\n",
    "search_string = str(\"^\" + p1 + \"(.*?).csv\")\n",
    "slink = \"https://github.com/lrbachtiar/tennis_atp/raw/master/\"\n",
    "dpath = \"./data/raw_data/\"\n",
    "for link in soup_html.findAll('a', attrs={'href': re.compile(search_string)}):\n",
    "    fname = link.get('href').replace(p1,'')\n",
    "    csv_url.append(fname)\n",
    "    dlink = str(slink + fname)\n",
    "    urllib.request.urlretrieve(dlink, str(dpath + fname))"
   ]
  }
 ],
 "metadata": {
  "kernelspec": {
   "display_name": "Python 3",
   "language": "python",
   "name": "python3"
  },
  "language_info": {
   "codemirror_mode": {
    "name": "ipython",
    "version": 3
   },
   "file_extension": ".py",
   "mimetype": "text/x-python",
   "name": "python",
   "nbconvert_exporter": "python",
   "pygments_lexer": "ipython3",
   "version": "3.6.5"
  }
 },
 "nbformat": 4,
 "nbformat_minor": 2
}
