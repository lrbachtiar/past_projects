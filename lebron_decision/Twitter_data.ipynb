{
 "cells": [
  {
   "cell_type": "code",
   "execution_count": null,
   "metadata": {},
   "outputs": [],
   "source": [
    "import pandas as pd\n",
    "import sqlite3\n",
    "import datetime\n",
    "import matplotlib.pyplot as plt\n",
    "import numpy as np\n"
   ]
  },
  {
   "cell_type": "markdown",
   "metadata": {},
   "source": [
    "## Connect to DB, load data and convert to dataframe"
   ]
  },
  {
   "cell_type": "code",
   "execution_count": null,
   "metadata": {},
   "outputs": [],
   "source": [
    "db_path = \"data/twitter_data.db\""
   ]
  },
  {
   "cell_type": "code",
   "execution_count": null,
   "metadata": {},
   "outputs": [],
   "source": [
    "conn = sqlite3.connect(db_path)\n",
    "c = conn.cursor()"
   ]
  },
  {
   "cell_type": "code",
   "execution_count": null,
   "metadata": {},
   "outputs": [],
   "source": [
    "c.execute('SELECT SQLITE_VERSION()')"
   ]
  },
  {
   "cell_type": "code",
   "execution_count": null,
   "metadata": {},
   "outputs": [],
   "source": [
    "c.execute('SELECT * FROM tweets')\n",
    "raw_data = c.fetchall()"
   ]
  },
  {
   "cell_type": "code",
   "execution_count": null,
   "metadata": {},
   "outputs": [],
   "source": [
    "conn.close()"
   ]
  },
  {
   "cell_type": "code",
   "execution_count": null,
   "metadata": {},
   "outputs": [],
   "source": [
    "raw_df = pd.DataFrame(raw_data)\n",
    "raw_df.columns = ['text', 'username', 'date', 'location']"
   ]
  },
  {
   "cell_type": "markdown",
   "metadata": {},
   "source": [
    "### Clean Twitter data"
   ]
  },
  {
   "cell_type": "code",
   "execution_count": null,
   "metadata": {},
   "outputs": [],
   "source": [
    "raw_df['date'] = pd.to_datetime(raw_df['date'])"
   ]
  },
  {
   "cell_type": "code",
   "execution_count": null,
   "metadata": {},
   "outputs": [],
   "source": [
    "import re\n",
    "\n",
    "def tweet_cleaner(s):    \n",
    "    s = re.sub(r\"http\\S+\", \"\", s)\n",
    "    s = s.replace(\"’\", \"'\")\n",
    "    #s = s.replace(\"'\", \"\")\n",
    "    s = s.replace(\"amp\", \"\")\n",
    "    #s = re.sub(r\"\\s*[^A-Za-z]+\\s*\", \" \", s)\n",
    "    #s = s.lower()\n",
    "    return s\n",
    "\n",
    "testing = raw_df.text[:]\n",
    "test_result = []\n",
    "for t in testing:\n",
    "    test_result.append(tweet_cleaner(t))"
   ]
  },
  {
   "cell_type": "code",
   "execution_count": null,
   "metadata": {},
   "outputs": [],
   "source": [
    "# Combine into dataframe\n",
    "test = pd.DataFrame(test_result)\n",
    "test.columns = ['text']\n",
    "clean_df = pd.concat([test, raw_df['date'], raw_df['location']], axis=1)"
   ]
  },
  {
   "cell_type": "code",
   "execution_count": null,
   "metadata": {},
   "outputs": [],
   "source": [
    "clean_df = clean_df[clean_df.text.str.contains('lebron')]"
   ]
  },
  {
   "cell_type": "markdown",
   "metadata": {},
   "source": [
    "### Tweets per minute"
   ]
  },
  {
   "cell_type": "code",
   "execution_count": null,
   "metadata": {},
   "outputs": [],
   "source": [
    "# time of tweet #edate = datetime.datetime(2018,7,1,23,0,0)\n",
    "\n",
    "sdate = datetime.datetime(2018,6,30,23,0,0)\n",
    "edate = datetime.datetime(2018,7,2,23,0,0)\n",
    "date_df = []\n",
    "date_df.append(sdate)\n",
    "\n",
    "date = sdate\n",
    "while date < edate:\n",
    "    date += datetime.timedelta(minutes=1)\n",
    "    date_df.append(date)"
   ]
  },
  {
   "cell_type": "code",
   "execution_count": null,
   "metadata": {},
   "outputs": [],
   "source": [
    "tweet_count = []\n",
    "for i in range(0,len(date_df)-1):\n",
    "    mask = (clean_df['date'] <= date_df[i+1]) & (clean_df['date'] > date_df[i])\n",
    "    tweet_count.append(len(clean_df.loc[mask]))\n",
    "\n",
    "tweet_count.append(0)"
   ]
  },
  {
   "cell_type": "code",
   "execution_count": null,
   "metadata": {},
   "outputs": [],
   "source": [
    "clean_df['date']"
   ]
  },
  {
   "cell_type": "code",
   "execution_count": null,
   "metadata": {},
   "outputs": [],
   "source": [
    "xtickrange=np.arange(min(x), max(x)+500, 500)\n",
    "for pos,tick in xtickrange:\n",
    "    lab[pos]=clean_df['date']"
   ]
  },
  {
   "cell_type": "code",
   "execution_count": null,
   "metadata": {},
   "outputs": [],
   "source": [
    "# Plot tweets per minute\n",
    "x = range(0,len(tweet_count))\n",
    "plt.scatter(x, tweet_count,s=1)\n",
    "plt.xticks((np.arange(min(x), max(x)+500, 500)))\n",
    "plt.show()"
   ]
  },
  {
   "cell_type": "code",
   "execution_count": null,
   "metadata": {},
   "outputs": [],
   "source": []
  },
  {
   "cell_type": "code",
   "execution_count": null,
   "metadata": {},
   "outputs": [],
   "source": [
    "min(x)"
   ]
  },
  {
   "cell_type": "code",
   "execution_count": null,
   "metadata": {},
   "outputs": [],
   "source": []
  }
 ],
 "metadata": {
  "kernelspec": {
   "display_name": "Python 3",
   "language": "python",
   "name": "python3"
  },
  "language_info": {
   "codemirror_mode": {
    "name": "ipython",
    "version": 3
   },
   "file_extension": ".py",
   "mimetype": "text/x-python",
   "name": "python",
   "nbconvert_exporter": "python",
   "pygments_lexer": "ipython3",
   "version": "3.6.5"
  }
 },
 "nbformat": 4,
 "nbformat_minor": 2
}
